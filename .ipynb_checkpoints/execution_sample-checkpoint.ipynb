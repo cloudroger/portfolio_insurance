{
 "cells": [
  {
   "cell_type": "code",
   "execution_count": 1,
   "id": "03bedb71",
   "metadata": {},
   "outputs": [
    {
     "name": "stdout",
     "output_type": "stream",
     "text": [
      "Hello! We'll be quoting an insurance contract for your portfolio.\n",
      "\n",
      "First coin in your portfolio:\n",
      "btc\n",
      "\n",
      "Amount of btc held:\n",
      ".05\n",
      "\n",
      "Do you have any other coins you would like to add? (y/n)\n",
      "y\n",
      "\n",
      "Coin:\n",
      "eth\n",
      "\n",
      "Amount of eth held:\n",
      "1\n",
      "\n",
      "Do you have any other coins you would like to add? (y/n)\n",
      "y\n",
      "\n",
      "Coin:\n",
      "ltc\n",
      "\n",
      "Amount of ltc held:\n",
      "5\n",
      "\n",
      "Do you have any other coins you would like to add? (y/n)\n",
      "n\n",
      "\n",
      "You have a total portfolio value of $5639!\n",
      "What would you like your deductible to be? This is the maximum amount your portfolio can dip by before receiving an insurance payout.\n",
      "For example, if your portfolio is worth $1000, you choose a $200 deductible, and your portfolio value drops to $500, you will be eligble for a $300 payout.\n",
      "Just like normal insurance, the higher the deductible, the less you have to pay in premiums!\n",
      "\n",
      "Enter amount:\n",
      "2500\n",
      "\n",
      "\n",
      "Thanks! From the information you have given us, we can construct your desired portfolio insurance policy by purchasing:\n",
      "\n",
      "Put options for btc at strike price 22663, eth at strike price 1694, ltc at strike price 62\n"
     ]
    }
   ],
   "source": [
    "from functions import execute\n",
    "execute()"
   ]
  }
 ],
 "metadata": {
  "kernelspec": {
   "display_name": "Python 3",
   "language": "python",
   "name": "python3"
  },
  "language_info": {
   "codemirror_mode": {
    "name": "ipython",
    "version": 3
   },
   "file_extension": ".py",
   "mimetype": "text/x-python",
   "name": "python",
   "nbconvert_exporter": "python",
   "pygments_lexer": "ipython3",
   "version": "3.8.10"
  }
 },
 "nbformat": 4,
 "nbformat_minor": 5
}
